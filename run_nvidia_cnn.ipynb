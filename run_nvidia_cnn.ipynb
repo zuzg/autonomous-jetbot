{
 "cells": [
  {
   "cell_type": "code",
   "execution_count": 12,
   "metadata": {},
   "outputs": [],
   "source": [
    "import torch\n",
    "import torch.nn as nn\n",
    "from torch.utils.data import DataLoader\n",
    "import torch.optim as optim\n",
    "import torch.onnx\n",
    "\n",
    "from sklearn.model_selection import train_test_split\n",
    "from src.nvidia_cnn import NvidiaCnn\n",
    "from src.train_nvidia_cnn import train\n",
    "from src.data import get_images_annotations, RobotDataset"
   ]
  },
  {
   "attachments": {},
   "cell_type": "markdown",
   "metadata": {},
   "source": [
    "### Load & preprocess the data"
   ]
  },
  {
   "cell_type": "code",
   "execution_count": 3,
   "metadata": {},
   "outputs": [],
   "source": [
    "DATA_PATH = \"./dataset\"\n",
    "images_annotations = get_images_annotations(DATA_PATH)"
   ]
  },
  {
   "cell_type": "code",
   "execution_count": 14,
   "metadata": {},
   "outputs": [],
   "source": [
    "# TODO: preprocess the image in `transform`\n",
    "dataset = RobotDataset(images_annotations)\n",
    "train_data, val_data = train_test_split(dataset, test_size=0.2, random_state=42)"
   ]
  },
  {
   "cell_type": "code",
   "execution_count": 19,
   "metadata": {},
   "outputs": [],
   "source": [
    "batch_size = 32\n",
    "train_loader = DataLoader(train_data, batch_size=batch_size, shuffle=True)\n",
    "val_loader = DataLoader(val_data, batch_size=batch_size, shuffle=True)"
   ]
  },
  {
   "cell_type": "code",
   "execution_count": 12,
   "metadata": {},
   "outputs": [
    {
     "name": "stdout",
     "output_type": "stream",
     "text": [
      "Batch shape: torch.Size([32, 3, 224, 224]) torch.Size([32]) torch.Size([32])\n",
      "Batch shape: torch.Size([32, 3, 224, 224]) torch.Size([32]) torch.Size([32])\n",
      "Batch shape: torch.Size([32, 3, 224, 224]) torch.Size([32]) torch.Size([32])\n",
      "Batch shape: torch.Size([32, 3, 224, 224]) torch.Size([32]) torch.Size([32])\n",
      "Batch shape: torch.Size([32, 3, 224, 224]) torch.Size([32]) torch.Size([32])\n",
      "Batch shape: torch.Size([32, 3, 224, 224]) torch.Size([32]) torch.Size([32])\n",
      "Batch shape: torch.Size([32, 3, 224, 224]) torch.Size([32]) torch.Size([32])\n",
      "Batch shape: torch.Size([32, 3, 224, 224]) torch.Size([32]) torch.Size([32])\n",
      "Batch shape: torch.Size([32, 3, 224, 224]) torch.Size([32]) torch.Size([32])\n",
      "Batch shape: torch.Size([32, 3, 224, 224]) torch.Size([32]) torch.Size([32])\n",
      "Batch shape: torch.Size([32, 3, 224, 224]) torch.Size([32]) torch.Size([32])\n",
      "Batch shape: torch.Size([32, 3, 224, 224]) torch.Size([32]) torch.Size([32])\n",
      "Batch shape: torch.Size([32, 3, 224, 224]) torch.Size([32]) torch.Size([32])\n",
      "Batch shape: torch.Size([32, 3, 224, 224]) torch.Size([32]) torch.Size([32])\n",
      "Batch shape: torch.Size([32, 3, 224, 224]) torch.Size([32]) torch.Size([32])\n",
      "Batch shape: torch.Size([32, 3, 224, 224]) torch.Size([32]) torch.Size([32])\n",
      "Batch shape: torch.Size([32, 3, 224, 224]) torch.Size([32]) torch.Size([32])\n",
      "Batch shape: torch.Size([32, 3, 224, 224]) torch.Size([32]) torch.Size([32])\n",
      "Batch shape: torch.Size([32, 3, 224, 224]) torch.Size([32]) torch.Size([32])\n",
      "Batch shape: torch.Size([32, 3, 224, 224]) torch.Size([32]) torch.Size([32])\n",
      "Batch shape: torch.Size([32, 3, 224, 224]) torch.Size([32]) torch.Size([32])\n",
      "Batch shape: torch.Size([32, 3, 224, 224]) torch.Size([32]) torch.Size([32])\n",
      "Batch shape: torch.Size([32, 3, 224, 224]) torch.Size([32]) torch.Size([32])\n",
      "Batch shape: torch.Size([32, 3, 224, 224]) torch.Size([32]) torch.Size([32])\n",
      "Batch shape: torch.Size([32, 3, 224, 224]) torch.Size([32]) torch.Size([32])\n",
      "Batch shape: torch.Size([32, 3, 224, 224]) torch.Size([32]) torch.Size([32])\n",
      "Batch shape: torch.Size([32, 3, 224, 224]) torch.Size([32]) torch.Size([32])\n",
      "Batch shape: torch.Size([32, 3, 224, 224]) torch.Size([32]) torch.Size([32])\n",
      "Batch shape: torch.Size([32, 3, 224, 224]) torch.Size([32]) torch.Size([32])\n",
      "Batch shape: torch.Size([32, 3, 224, 224]) torch.Size([32]) torch.Size([32])\n",
      "Batch shape: torch.Size([32, 3, 224, 224]) torch.Size([32]) torch.Size([32])\n",
      "Batch shape: torch.Size([32, 3, 224, 224]) torch.Size([32]) torch.Size([32])\n",
      "Batch shape: torch.Size([32, 3, 224, 224]) torch.Size([32]) torch.Size([32])\n",
      "Batch shape: torch.Size([32, 3, 224, 224]) torch.Size([32]) torch.Size([32])\n",
      "Batch shape: torch.Size([32, 3, 224, 224]) torch.Size([32]) torch.Size([32])\n",
      "Batch shape: torch.Size([32, 3, 224, 224]) torch.Size([32]) torch.Size([32])\n",
      "Batch shape: torch.Size([32, 3, 224, 224]) torch.Size([32]) torch.Size([32])\n",
      "Batch shape: torch.Size([32, 3, 224, 224]) torch.Size([32]) torch.Size([32])\n",
      "Batch shape: torch.Size([32, 3, 224, 224]) torch.Size([32]) torch.Size([32])\n",
      "Batch shape: torch.Size([32, 3, 224, 224]) torch.Size([32]) torch.Size([32])\n",
      "Batch shape: torch.Size([32, 3, 224, 224]) torch.Size([32]) torch.Size([32])\n",
      "Batch shape: torch.Size([32, 3, 224, 224]) torch.Size([32]) torch.Size([32])\n",
      "Batch shape: torch.Size([32, 3, 224, 224]) torch.Size([32]) torch.Size([32])\n",
      "Batch shape: torch.Size([32, 3, 224, 224]) torch.Size([32]) torch.Size([32])\n",
      "Batch shape: torch.Size([32, 3, 224, 224]) torch.Size([32]) torch.Size([32])\n",
      "Batch shape: torch.Size([32, 3, 224, 224]) torch.Size([32]) torch.Size([32])\n",
      "Batch shape: torch.Size([32, 3, 224, 224]) torch.Size([32]) torch.Size([32])\n",
      "Batch shape: torch.Size([13, 3, 224, 224]) torch.Size([13]) torch.Size([13])\n"
     ]
    }
   ],
   "source": [
    "# might be useful - if not feel free to delete \n",
    "# for batch in val_loader:\n",
    "#     images, forward_signals, left_signals = batch\n",
    "#     print(\"Batch shape:\", images.shape, forward_signals.shape, left_signals.shape)"
   ]
  },
  {
   "attachments": {},
   "cell_type": "markdown",
   "metadata": {},
   "source": [
    "### Train Model #1"
   ]
  },
  {
   "cell_type": "code",
   "execution_count": 2,
   "metadata": {},
   "outputs": [
    {
     "data": {
      "text/plain": [
       "device(type='cpu')"
      ]
     },
     "execution_count": 2,
     "metadata": {},
     "output_type": "execute_result"
    }
   ],
   "source": [
    "device = torch.device('cuda:0' if torch.cuda.is_available() else 'cpu')\n",
    "device"
   ]
  },
  {
   "cell_type": "code",
   "execution_count": 3,
   "metadata": {},
   "outputs": [],
   "source": [
    "model = NvidiaCnn()\n",
    "optimizer = optim.Adam(model.parameters())\n",
    "criterion = nn.MSELoss()\n",
    "epochs = 10"
   ]
  },
  {
   "cell_type": "code",
   "execution_count": null,
   "metadata": {},
   "outputs": [],
   "source": [
    "train(model, train_loader, val_loader, optimizer, criterion, epochs, device)"
   ]
  },
  {
   "cell_type": "code",
   "execution_count": null,
   "metadata": {},
   "outputs": [],
   "source": [
    "x = torch.randn(1, 3, 224, 224, requires_grad=True)\n",
    "\n",
    "torch.onnx.export(model,\n",
    "                  x,\n",
    "                  \"model.onnx\",\n",
    "                  export_params=True,\n",
    "                  opset_version=11)"
   ]
  },
  {
   "attachments": {},
   "cell_type": "markdown",
   "metadata": {},
   "source": [
    "### Train Model #2\n",
    "TODO"
   ]
  }
 ],
 "metadata": {
  "kernelspec": {
   "display_name": "nlp",
   "language": "python",
   "name": "python3"
  },
  "language_info": {
   "codemirror_mode": {
    "name": "ipython",
    "version": 3
   },
   "file_extension": ".py",
   "mimetype": "text/x-python",
   "name": "python",
   "nbconvert_exporter": "python",
   "pygments_lexer": "ipython3",
   "version": "3.10.10"
  },
  "orig_nbformat": 4
 },
 "nbformat": 4,
 "nbformat_minor": 2
}
