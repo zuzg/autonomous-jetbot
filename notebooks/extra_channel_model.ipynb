{
 "cells": [
  {
   "cell_type": "code",
   "execution_count": 1,
   "metadata": {},
   "outputs": [],
   "source": [
    "import sys\n",
    "if '..' not in sys.path:\n",
    "    sys.path.append('..')"
   ]
  },
  {
   "cell_type": "code",
   "execution_count": 2,
   "metadata": {},
   "outputs": [
    {
     "name": "stderr",
     "output_type": "stream",
     "text": [
      "<frozen importlib._bootstrap>:241: RuntimeWarning: scipy._lib.messagestream.MessageStream size changed, may indicate binary incompatibility. Expected 56 from C header, got 64 from PyObject\n"
     ]
    }
   ],
   "source": [
    "import numpy as np\n",
    "import matplotlib.pyplot as plt\n",
    "import torch\n",
    "import torch.nn as nn\n",
    "import torch.optim as optim\n",
    "import torch.onnx\n",
    "\n",
    "from torch.utils.data import DataLoader\n",
    "from sklearn.model_selection import train_test_split\n",
    "\n",
    "from src.preprocess import append_threshold_channel\n",
    "from src.cv_cnns import ExtraChannelCNN\n",
    "from src.train import run_training\n",
    "from src.data import get_images_annotations, RobotDataset\n",
    "from src.evaluate import evaluate"
   ]
  },
  {
   "cell_type": "code",
   "execution_count": 3,
   "metadata": {},
   "outputs": [
    {
     "data": {
      "text/plain": [
       "device(type='cpu')"
      ]
     },
     "execution_count": 3,
     "metadata": {},
     "output_type": "execute_result"
    }
   ],
   "source": [
    "device = torch.device('cuda:0' if torch.cuda.is_available() else 'cpu')\n",
    "device"
   ]
  },
  {
   "cell_type": "code",
   "execution_count": 4,
   "metadata": {},
   "outputs": [],
   "source": [
    "class AdaptiveExtendingDataset(RobotDataset):\n",
    "    def transform(self, image):\n",
    "        image = append_threshold_channel(image)\n",
    "        return super().transform(image)"
   ]
  },
  {
   "cell_type": "code",
   "execution_count": 5,
   "metadata": {},
   "outputs": [],
   "source": [
    "dataset = AdaptiveExtendingDataset(get_images_annotations('../dataset'))\n",
    "train_data, val_data = train_test_split(dataset, test_size=0.2, random_state=42)\n",
    "val_data, test_data = train_test_split(val_data, test_size=0.5, random_state=42)\n",
    "\n",
    "train_data_loader = DataLoader(train_data, batch_size=32, shuffle=True)\n",
    "val_data_loader = DataLoader(val_data, batch_size=32, shuffle=True)\n",
    "test_data_loader = DataLoader(test_data, batch_size=32, shuffle=True)"
   ]
  },
  {
   "cell_type": "code",
   "execution_count": 6,
   "metadata": {},
   "outputs": [],
   "source": [
    "model = ExtraChannelCNN()\n",
    "optimizer = optim.Adam(model.parameters(), lr=0.001)\n",
    "criterion = nn.MSELoss()\n",
    "NUM_EPOCHS = 20"
   ]
  },
  {
   "cell_type": "code",
   "execution_count": 7,
   "metadata": {},
   "outputs": [
    {
     "name": "stdout",
     "output_type": "stream",
     "text": [
      "Running training for 20 epochs.\n"
     ]
    },
    {
     "name": "stderr",
     "output_type": "stream",
     "text": [
      "Epoch 0: 100%|██████████| 190/190 [00:23<00:00,  8.23it/s, loss=0.112] \n"
     ]
    },
    {
     "name": "stdout",
     "output_type": "stream",
     "text": [
      "Validation loss=0.1810971005690621\n"
     ]
    },
    {
     "name": "stderr",
     "output_type": "stream",
     "text": [
      "Epoch 1: 100%|██████████| 190/190 [00:20<00:00,  9.33it/s, loss=0.0706]\n"
     ]
    },
    {
     "name": "stdout",
     "output_type": "stream",
     "text": [
      "Validation loss=0.14628913510215769\n"
     ]
    },
    {
     "name": "stderr",
     "output_type": "stream",
     "text": [
      "Epoch 2: 100%|██████████| 190/190 [00:14<00:00, 13.23it/s, loss=0.105] \n"
     ]
    },
    {
     "name": "stdout",
     "output_type": "stream",
     "text": [
      "Validation loss=0.08930603894260418\n"
     ]
    },
    {
     "name": "stderr",
     "output_type": "stream",
     "text": [
      "Epoch 3: 100%|██████████| 190/190 [00:14<00:00, 13.14it/s, loss=0.0477]\n"
     ]
    },
    {
     "name": "stdout",
     "output_type": "stream",
     "text": [
      "Validation loss=0.16503087788975473\n"
     ]
    },
    {
     "name": "stderr",
     "output_type": "stream",
     "text": [
      "Epoch 4: 100%|██████████| 190/190 [00:14<00:00, 13.39it/s, loss=0.0919]\n"
     ]
    },
    {
     "name": "stdout",
     "output_type": "stream",
     "text": [
      "Validation loss=0.07337802834323305\n"
     ]
    },
    {
     "name": "stderr",
     "output_type": "stream",
     "text": [
      "Epoch 5: 100%|██████████| 190/190 [00:14<00:00, 12.97it/s, loss=0.0735]\n"
     ]
    },
    {
     "name": "stdout",
     "output_type": "stream",
     "text": [
      "Validation loss=0.09360111870482891\n"
     ]
    },
    {
     "name": "stderr",
     "output_type": "stream",
     "text": [
      "Epoch 6: 100%|██████████| 190/190 [00:13<00:00, 13.82it/s, loss=0.0653]\n"
     ]
    },
    {
     "name": "stdout",
     "output_type": "stream",
     "text": [
      "Validation loss=0.08126678503482862\n"
     ]
    },
    {
     "name": "stderr",
     "output_type": "stream",
     "text": [
      "Epoch 7: 100%|██████████| 190/190 [00:14<00:00, 12.91it/s, loss=0.0363]\n"
     ]
    },
    {
     "name": "stdout",
     "output_type": "stream",
     "text": [
      "Validation loss=0.14403675098207744\n"
     ]
    },
    {
     "name": "stderr",
     "output_type": "stream",
     "text": [
      "Epoch 8: 100%|██████████| 190/190 [00:12<00:00, 14.69it/s, loss=0.0212] \n"
     ]
    },
    {
     "name": "stdout",
     "output_type": "stream",
     "text": [
      "Validation loss=0.13165946817447238\n"
     ]
    },
    {
     "name": "stderr",
     "output_type": "stream",
     "text": [
      "Epoch 9: 100%|██████████| 190/190 [00:14<00:00, 13.48it/s, loss=0.00963]\n"
     ]
    },
    {
     "name": "stdout",
     "output_type": "stream",
     "text": [
      "Validation loss=0.1348192366844831\n"
     ]
    },
    {
     "name": "stderr",
     "output_type": "stream",
     "text": [
      "Epoch 10: 100%|██████████| 190/190 [00:13<00:00, 14.48it/s, loss=0.0186] \n"
     ]
    },
    {
     "name": "stdout",
     "output_type": "stream",
     "text": [
      "Validation loss=0.14701098737958374\n"
     ]
    },
    {
     "name": "stderr",
     "output_type": "stream",
     "text": [
      "Epoch 11: 100%|██████████| 190/190 [00:13<00:00, 13.73it/s, loss=0.0135] \n"
     ]
    },
    {
     "name": "stdout",
     "output_type": "stream",
     "text": [
      "Validation loss=0.05490048509375472\n"
     ]
    },
    {
     "name": "stderr",
     "output_type": "stream",
     "text": [
      "Epoch 12: 100%|██████████| 190/190 [00:13<00:00, 13.89it/s, loss=0.0211] \n"
     ]
    },
    {
     "name": "stdout",
     "output_type": "stream",
     "text": [
      "Validation loss=0.11533767735536045\n"
     ]
    },
    {
     "name": "stderr",
     "output_type": "stream",
     "text": [
      "Epoch 13: 100%|██████████| 190/190 [00:13<00:00, 14.49it/s, loss=0.00447]\n"
     ]
    },
    {
     "name": "stdout",
     "output_type": "stream",
     "text": [
      "Validation loss=0.08913281541464456\n"
     ]
    },
    {
     "name": "stderr",
     "output_type": "stream",
     "text": [
      "Epoch 14: 100%|██████████| 190/190 [00:13<00:00, 13.87it/s, loss=0.00838]\n"
     ]
    },
    {
     "name": "stdout",
     "output_type": "stream",
     "text": [
      "Validation loss=0.10068046036566777\n"
     ]
    },
    {
     "name": "stderr",
     "output_type": "stream",
     "text": [
      "Epoch 15: 100%|██████████| 190/190 [00:12<00:00, 14.67it/s, loss=0.0049] \n"
     ]
    },
    {
     "name": "stdout",
     "output_type": "stream",
     "text": [
      "Validation loss=0.053638795352170816\n"
     ]
    },
    {
     "name": "stderr",
     "output_type": "stream",
     "text": [
      "Epoch 16: 100%|██████████| 190/190 [00:13<00:00, 14.17it/s, loss=0.0121] \n"
     ]
    },
    {
     "name": "stdout",
     "output_type": "stream",
     "text": [
      "Validation loss=0.10697868876449954\n"
     ]
    },
    {
     "name": "stderr",
     "output_type": "stream",
     "text": [
      "Epoch 17: 100%|██████████| 190/190 [00:13<00:00, 13.59it/s, loss=0.00379]\n"
     ]
    },
    {
     "name": "stdout",
     "output_type": "stream",
     "text": [
      "Validation loss=0.03218382426409965\n"
     ]
    },
    {
     "name": "stderr",
     "output_type": "stream",
     "text": [
      "Epoch 18: 100%|██████████| 190/190 [00:13<00:00, 13.77it/s, loss=0.00189]\n"
     ]
    },
    {
     "name": "stdout",
     "output_type": "stream",
     "text": [
      "Validation loss=0.07378232089936032\n"
     ]
    },
    {
     "name": "stderr",
     "output_type": "stream",
     "text": [
      "Epoch 19: 100%|██████████| 190/190 [00:15<00:00, 12.16it/s, loss=0.00239]\n"
     ]
    },
    {
     "name": "stdout",
     "output_type": "stream",
     "text": [
      "Validation loss=0.05990535398166797\n"
     ]
    }
   ],
   "source": [
    "train_history, val_history = run_training(model, train_data_loader, val_data_loader, optimizer, criterion, NUM_EPOCHS, device)"
   ]
  },
  {
   "cell_type": "code",
   "execution_count": 12,
   "metadata": {},
   "outputs": [
    {
     "data": {
      "text/plain": [
       "<matplotlib.legend.Legend at 0x2133bd6b2e0>"
      ]
     },
     "execution_count": 12,
     "metadata": {},
     "output_type": "execute_result"
    },
    {
     "data": {
      "image/png": "[encoded data removed]",
      "text/plain": [
       "<Figure size 640x480 with 1 Axes>"
      ]
     },
     "metadata": {},
     "output_type": "display_data"
    }
   ],
   "source": [
    "plt.plot(train_history, label='train')\n",
    "plt.plot(val_history, label='val')\n",
    "plt.legend()"
   ]
  },
  {
   "cell_type": "code",
   "execution_count": 13,
   "metadata": {},
   "outputs": [
    {
     "name": "stdout",
     "output_type": "stream",
     "text": [
      "Vertical MSE: 0.0358\n",
      "Horizontal MSE: 0.1861\n",
      "Total MSE: 0.1110\n",
      "\n"
     ]
    }
   ],
   "source": [
    "result = evaluate(model, test_data, device)\n",
    "\n",
    "print(\n",
    "    f\"Vertical MSE: {result['vertical_mse']:.4f}\\n\"\n",
    "    f\"Horizontal MSE: {result['horizontal_mse']:.4f}\\n\"\n",
    "    f\"Total MSE: {result['total_mse']:.4f}\\n\"\n",
    ")"
   ]
  },
  {
   "cell_type": "code",
   "execution_count": 14,
   "metadata": {},
   "outputs": [
    {
     "data": {
      "image/png": "[encoded data removed]",
      "text/plain": [
       "<Figure size 1500x500 with 2 Axes>"
      ]
     },
     "metadata": {},
     "output_type": "display_data"
    }
   ],
   "source": [
    "individual_diff = result['individual_prediction_differences']\n",
    "vertical_diff = individual_diff[:, 0]\n",
    "horizontal_diff = individual_diff[:, 1]\n",
    "\n",
    "fig, (ax1, ax2) = plt.subplots(1, 2, figsize=(15, 5), sharey=True)\n",
    "ax1.violinplot(vertical_diff)\n",
    "ax1.set_title('Vertical MAE')\n",
    "ax2.violinplot(horizontal_diff)\n",
    "ax2.set_title('Horizontal MAE')\n",
    "\n",
    "plt.show()"
   ]
  },
  {
   "cell_type": "code",
   "execution_count": 11,
   "metadata": {},
   "outputs": [
    {
     "name": "stdout",
     "output_type": "stream",
     "text": [
      "graph(%input.1 : Float(1, 4, 224, 224, strides=[200704, 50176, 224, 1], requires_grad=0, device=cpu),\n",
      "      %features.0.weight : Float(8, 4, 3, 3, strides=[36, 9, 3, 1], requires_grad=1, device=cpu),\n",
      "      %features.0.bias : Float(8, strides=[1], requires_grad=1, device=cpu),\n",
      "      %features.2.weight : Float(16, 8, 3, 3, strides=[72, 9, 3, 1], requires_grad=1, device=cpu),\n",
      "      %features.2.bias : Float(16, strides=[1], requires_grad=1, device=cpu),\n",
      "      %features.4.weight : Float(32, 16, 3, 3, strides=[144, 9, 3, 1], requires_grad=1, device=cpu),\n",
      "      %features.4.bias : Float(32, strides=[1], requires_grad=1, device=cpu),\n",
      "      %classifier.0.weight : Float(256, 3200, strides=[3200, 1], requires_grad=1, device=cpu),\n",
      "      %classifier.0.bias : Float(256, strides=[1], requires_grad=1, device=cpu),\n",
      "      %classifier.2.weight : Float(2, 256, strides=[256, 1], requires_grad=1, device=cpu),\n",
      "      %classifier.2.bias : Float(2, strides=[1], requires_grad=1, device=cpu),\n",
      "      %30 : Long(2, strides=[1], requires_grad=0, device=cpu)):\n",
      "  %input : Float(1, 8, 76, 76, strides=[46208, 5776, 76, 1], requires_grad=0, device=cpu) = onnx::Conv[dilations=[1, 1], group=1, kernel_shape=[3, 3], pads=[2, 2, 2, 2], strides=[3, 3]](%input.1, %features.0.weight, %features.0.bias) # d:\\Programs\\Anaconda\\envs\\dviz\\lib\\site-packages\\torch\\nn\\modules\\conv.py:442:0\n",
      "  %input.4 : Float(1, 8, 76, 76, strides=[46208, 5776, 76, 1], requires_grad=1, device=cpu) = onnx::Relu(%input) # d:\\Programs\\Anaconda\\envs\\dviz\\lib\\site-packages\\torch\\nn\\functional.py:1438:0\n",
      "  %input.8 : Float(1, 16, 26, 26, strides=[10816, 676, 26, 1], requires_grad=0, device=cpu) = onnx::Conv[dilations=[1, 1], group=1, kernel_shape=[3, 3], pads=[2, 2, 2, 2], strides=[3, 3]](%input.4, %features.2.weight, %features.2.bias) # d:\\Programs\\Anaconda\\envs\\dviz\\lib\\site-packages\\torch\\nn\\modules\\conv.py:442:0\n",
      "  %input.12 : Float(1, 16, 26, 26, strides=[10816, 676, 26, 1], requires_grad=1, device=cpu) = onnx::Relu(%input.8) # d:\\Programs\\Anaconda\\envs\\dviz\\lib\\site-packages\\torch\\nn\\functional.py:1438:0\n",
      "  %input.16 : Float(1, 32, 10, 10, strides=[3200, 100, 10, 1], requires_grad=0, device=cpu) = onnx::Conv[dilations=[1, 1], group=1, kernel_shape=[3, 3], pads=[2, 2, 2, 2], strides=[3, 3]](%input.12, %features.4.weight, %features.4.bias) # d:\\Programs\\Anaconda\\envs\\dviz\\lib\\site-packages\\torch\\nn\\modules\\conv.py:442:0\n",
      "  %16 : Float(1, 32, 10, 10, strides=[3200, 100, 10, 1], requires_grad=1, device=cpu) = onnx::Relu(%input.16) # d:\\Programs\\Anaconda\\envs\\dviz\\lib\\site-packages\\torch\\nn\\functional.py:1438:0\n",
      "  %22 : Float(1, 3200, strides=[3200, 1], requires_grad=1, device=cpu) = onnx::Reshape(%16, %30) # c:\\Users\\sbart\\Desktop\\Repositories\\VSC Repos\\Python\\Rob2-PreprocessTest\\notebooks\\..\\src\\cv_cnns.py:52:0\n",
      "  %input.20 : Float(1, 256, strides=[256, 1], requires_grad=1, device=cpu) = onnx::Gemm[alpha=1., beta=1., transB=1](%22, %classifier.0.weight, %classifier.0.bias) # d:\\Programs\\Anaconda\\envs\\dviz\\lib\\site-packages\\torch\\nn\\modules\\linear.py:103:0\n",
      "  %24 : Float(1, 256, strides=[256, 1], requires_grad=1, device=cpu) = onnx::Relu(%input.20) # d:\\Programs\\Anaconda\\envs\\dviz\\lib\\site-packages\\torch\\nn\\functional.py:1438:0\n",
      "  %25 : Float(1, 2, strides=[2, 1], requires_grad=1, device=cpu) = onnx::Gemm[alpha=1., beta=1., transB=1](%24, %classifier.2.weight, %classifier.2.bias) # d:\\Programs\\Anaconda\\envs\\dviz\\lib\\site-packages\\torch\\nn\\modules\\linear.py:103:0\n",
      "  %26 : Float(1, 2, strides=[2, 1], requires_grad=1, device=cpu) = onnx::Tanh(%25) # d:\\Programs\\Anaconda\\envs\\dviz\\lib\\site-packages\\torch\\nn\\modules\\activation.py:357:0\n",
      "  %27 : Double(1, 2, strides=[2, 1], requires_grad=1, device=cpu) = onnx::Cast[to=11](%26) # c:\\Users\\sbart\\Desktop\\Repositories\\VSC Repos\\Python\\Rob2-PreprocessTest\\notebooks\\..\\src\\cv_cnns.py:52:0\n",
      "  return (%27)\n",
      "\n"
     ]
    }
   ],
   "source": [
    "torch.onnx.export(model, torch.randn(1, 4, 224, 224), '../models/extra_channel_cnn.onnx', verbose=True)"
   ]
  }
 ],
 "metadata": {
  "kernelspec": {
   "display_name": "dviz",
   "language": "python",
   "name": "python3"
  },
  "language_info": {
   "codemirror_mode": {
    "name": "ipython",
    "version": 3
   },
   "file_extension": ".py",
   "mimetype": "text/x-python",
   "name": "python",
   "nbconvert_exporter": "python",
   "pygments_lexer": "ipython3",
   "version": "3.10.4"
  },
  "orig_nbformat": 4
 },
 "nbformat": 4,
 "nbformat_minor": 2
}
