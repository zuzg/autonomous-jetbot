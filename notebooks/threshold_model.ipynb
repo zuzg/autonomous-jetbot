{
 "cells": [
  {
   "cell_type": "code",
   "execution_count": 1,
   "metadata": {},
   "outputs": [],
   "source": [
    "import sys\n",
    "if '..' not in sys.path:\n",
    "    sys.path.append('..')"
   ]
  },
  {
   "cell_type": "code",
   "execution_count": 2,
   "metadata": {},
   "outputs": [
    {
     "name": "stderr",
     "output_type": "stream",
     "text": [
      "<frozen importlib._bootstrap>:241: RuntimeWarning: scipy._lib.messagestream.MessageStream size changed, may indicate binary incompatibility. Expected 56 from C header, got 64 from PyObject\n"
     ]
    }
   ],
   "source": [
    "import numpy as np\n",
    "import matplotlib.pyplot as plt\n",
    "import torch\n",
    "import torch.nn as nn\n",
    "import torch.optim as optim\n",
    "import torch.onnx\n",
    "\n",
    "from torch.utils.data import DataLoader\n",
    "from sklearn.model_selection import train_test_split\n",
    "\n",
    "from src.preprocess import extract_from_adaptive_threshold\n",
    "from src.cv_cnns import ThreshCNN\n",
    "from src.train import run_training\n",
    "from src.data import get_images_annotations, RobotDataset\n",
    "from src.evaluate import evaluate"
   ]
  },
  {
   "cell_type": "code",
   "execution_count": 3,
   "metadata": {},
   "outputs": [
    {
     "data": {
      "text/plain": [
       "device(type='cpu')"
      ]
     },
     "execution_count": 3,
     "metadata": {},
     "output_type": "execute_result"
    }
   ],
   "source": [
    "device = torch.device('cuda:0' if torch.cuda.is_available() else 'cpu')\n",
    "device"
   ]
  },
  {
   "cell_type": "code",
   "execution_count": 4,
   "metadata": {},
   "outputs": [],
   "source": [
    "class ThresholdingDataset(RobotDataset):\n",
    "    def transform(self, image):\n",
    "        image = extract_from_adaptive_threshold(image)\n",
    "        return super().transform(image)"
   ]
  },
  {
   "cell_type": "code",
   "execution_count": 5,
   "metadata": {},
   "outputs": [],
   "source": [
    "dataset = ThresholdingDataset(get_images_annotations('../dataset'))\n",
    "train_data, val_data = train_test_split(dataset, test_size=0.2, random_state=42)\n",
    "val_data, test_data = train_test_split(val_data, test_size=0.5, random_state=42)\n",
    "\n",
    "train_data_loader = DataLoader(train_data, batch_size=32, shuffle=True)\n",
    "val_data_loader = DataLoader(val_data, batch_size=32, shuffle=True)\n",
    "test_data_loader = DataLoader(test_data, batch_size=32, shuffle=True)"
   ]
  },
  {
   "cell_type": "code",
   "execution_count": 6,
   "metadata": {},
   "outputs": [],
   "source": [
    "model = ThreshCNN()\n",
    "optimizer = optim.Adam(model.parameters(), lr=0.001)\n",
    "criterion = nn.MSELoss()\n",
    "NUM_EPOCHS = 20"
   ]
  },
  {
   "cell_type": "code",
   "execution_count": 7,
   "metadata": {},
   "outputs": [
    {
     "name": "stdout",
     "output_type": "stream",
     "text": [
      "Running training for 20 epochs.\n"
     ]
    },
    {
     "name": "stderr",
     "output_type": "stream",
     "text": [
      "Epoch 0: 100%|██████████| 190/190 [00:13<00:00, 13.79it/s, loss=0.118] \n"
     ]
    },
    {
     "name": "stdout",
     "output_type": "stream",
     "text": [
      "Validation loss=0.11078472285960483\n"
     ]
    },
    {
     "name": "stderr",
     "output_type": "stream",
     "text": [
      "Epoch 1: 100%|██████████| 190/190 [00:13<00:00, 14.38it/s, loss=0.037] \n"
     ]
    },
    {
     "name": "stdout",
     "output_type": "stream",
     "text": [
      "Validation loss=0.11956996253481886\n"
     ]
    },
    {
     "name": "stderr",
     "output_type": "stream",
     "text": [
      "Epoch 2: 100%|██████████| 190/190 [00:13<00:00, 13.64it/s, loss=0.0423]\n"
     ]
    },
    {
     "name": "stdout",
     "output_type": "stream",
     "text": [
      "Validation loss=0.08207099513432099\n"
     ]
    },
    {
     "name": "stderr",
     "output_type": "stream",
     "text": [
      "Epoch 3: 100%|██████████| 190/190 [00:13<00:00, 14.37it/s, loss=0.0149] \n"
     ]
    },
    {
     "name": "stdout",
     "output_type": "stream",
     "text": [
      "Validation loss=0.0769993763353035\n"
     ]
    },
    {
     "name": "stderr",
     "output_type": "stream",
     "text": [
      "Epoch 4: 100%|██████████| 190/190 [00:13<00:00, 13.93it/s, loss=0.0368] \n"
     ]
    },
    {
     "name": "stdout",
     "output_type": "stream",
     "text": [
      "Validation loss=0.08542489471340851\n"
     ]
    },
    {
     "name": "stderr",
     "output_type": "stream",
     "text": [
      "Epoch 5: 100%|██████████| 190/190 [00:13<00:00, 14.01it/s, loss=0.0181] \n"
     ]
    },
    {
     "name": "stdout",
     "output_type": "stream",
     "text": [
      "Validation loss=0.10817281782100642\n"
     ]
    },
    {
     "name": "stderr",
     "output_type": "stream",
     "text": [
      "Epoch 6: 100%|██████████| 190/190 [00:13<00:00, 13.96it/s, loss=0.00909]\n"
     ]
    },
    {
     "name": "stdout",
     "output_type": "stream",
     "text": [
      "Validation loss=0.08660997328212035\n"
     ]
    },
    {
     "name": "stderr",
     "output_type": "stream",
     "text": [
      "Epoch 7: 100%|██████████| 190/190 [00:13<00:00, 13.88it/s, loss=0.0218] \n"
     ]
    },
    {
     "name": "stdout",
     "output_type": "stream",
     "text": [
      "Validation loss=0.13401691516081882\n"
     ]
    },
    {
     "name": "stderr",
     "output_type": "stream",
     "text": [
      "Epoch 8: 100%|██████████| 190/190 [00:13<00:00, 14.07it/s, loss=0.004]  \n"
     ]
    },
    {
     "name": "stdout",
     "output_type": "stream",
     "text": [
      "Validation loss=0.11936340136490987\n"
     ]
    },
    {
     "name": "stderr",
     "output_type": "stream",
     "text": [
      "Epoch 9: 100%|██████████| 190/190 [00:12<00:00, 14.68it/s, loss=0.0068] \n"
     ]
    },
    {
     "name": "stdout",
     "output_type": "stream",
     "text": [
      "Validation loss=0.10579029475385356\n"
     ]
    },
    {
     "name": "stderr",
     "output_type": "stream",
     "text": [
      "Epoch 10: 100%|██████████| 190/190 [00:13<00:00, 13.95it/s, loss=0.00932]\n"
     ]
    },
    {
     "name": "stdout",
     "output_type": "stream",
     "text": [
      "Validation loss=0.15251073434558624\n"
     ]
    },
    {
     "name": "stderr",
     "output_type": "stream",
     "text": [
      "Epoch 11: 100%|██████████| 190/190 [00:13<00:00, 14.19it/s, loss=0.00339]\n"
     ]
    },
    {
     "name": "stdout",
     "output_type": "stream",
     "text": [
      "Validation loss=0.06141513351265174\n"
     ]
    },
    {
     "name": "stderr",
     "output_type": "stream",
     "text": [
      "Epoch 12: 100%|██████████| 190/190 [00:13<00:00, 14.52it/s, loss=0.00366]\n"
     ]
    },
    {
     "name": "stdout",
     "output_type": "stream",
     "text": [
      "Validation loss=0.1533157253812104\n"
     ]
    },
    {
     "name": "stderr",
     "output_type": "stream",
     "text": [
      "Epoch 13: 100%|██████████| 190/190 [00:13<00:00, 14.16it/s, loss=0.00397]\n"
     ]
    },
    {
     "name": "stdout",
     "output_type": "stream",
     "text": [
      "Validation loss=0.10971488918185868\n"
     ]
    },
    {
     "name": "stderr",
     "output_type": "stream",
     "text": [
      "Epoch 14: 100%|██████████| 190/190 [00:13<00:00, 14.32it/s, loss=0.00364]\n"
     ]
    },
    {
     "name": "stdout",
     "output_type": "stream",
     "text": [
      "Validation loss=0.11198780104317665\n"
     ]
    },
    {
     "name": "stderr",
     "output_type": "stream",
     "text": [
      "Epoch 15: 100%|██████████| 190/190 [00:13<00:00, 13.69it/s, loss=0.00247]\n"
     ]
    },
    {
     "name": "stdout",
     "output_type": "stream",
     "text": [
      "Validation loss=0.12176511440238066\n"
     ]
    },
    {
     "name": "stderr",
     "output_type": "stream",
     "text": [
      "Epoch 16: 100%|██████████| 190/190 [00:14<00:00, 13.28it/s, loss=0.00209]\n"
     ]
    },
    {
     "name": "stdout",
     "output_type": "stream",
     "text": [
      "Validation loss=0.22496008743664112\n"
     ]
    },
    {
     "name": "stderr",
     "output_type": "stream",
     "text": [
      "Epoch 17: 100%|██████████| 190/190 [00:13<00:00, 14.32it/s, loss=0.00309] \n"
     ]
    },
    {
     "name": "stdout",
     "output_type": "stream",
     "text": [
      "Validation loss=0.11243178793195359\n"
     ]
    },
    {
     "name": "stderr",
     "output_type": "stream",
     "text": [
      "Epoch 18: 100%|██████████| 190/190 [00:14<00:00, 12.67it/s, loss=0.00407]\n"
     ]
    },
    {
     "name": "stdout",
     "output_type": "stream",
     "text": [
      "Validation loss=0.07050708996163549\n"
     ]
    },
    {
     "name": "stderr",
     "output_type": "stream",
     "text": [
      "Epoch 19: 100%|██████████| 190/190 [00:13<00:00, 14.13it/s, loss=0.0048]  \n"
     ]
    },
    {
     "name": "stdout",
     "output_type": "stream",
     "text": [
      "Validation loss=0.11295029252140566\n"
     ]
    }
   ],
   "source": [
    "train_history, val_history = run_training(model, train_data_loader, val_data_loader, optimizer, criterion, NUM_EPOCHS, device)"
   ]
  },
  {
   "cell_type": "code",
   "execution_count": 8,
   "metadata": {},
   "outputs": [
    {
     "data": {
      "text/plain": [
       "<matplotlib.legend.Legend at 0x149ec6d5bd0>"
      ]
     },
     "execution_count": 8,
     "metadata": {},
     "output_type": "execute_result"
    },
    {
     "data": {
      "image/png": "[encoded data removed]",
      "text/plain": [
       "<Figure size 640x480 with 1 Axes>"
      ]
     },
     "metadata": {},
     "output_type": "display_data"
    }
   ],
   "source": [
    "plt.plot(train_history, label='train')\n",
    "plt.plot(val_history, label='val')\n",
    "plt.legend()"
   ]
  },
  {
   "cell_type": "code",
   "execution_count": 9,
   "metadata": {},
   "outputs": [
    {
     "name": "stdout",
     "output_type": "stream",
     "text": [
      "Vertical MSE: 0.0391\n",
      "Horizontal MSE: 0.1710\n",
      "Total MSE: 0.1051\n",
      "\n"
     ]
    }
   ],
   "source": [
    "result = evaluate(model, test_data, device)\n",
    "\n",
    "print(\n",
    "    f\"Vertical MSE: {result['vertical_mse']:.4f}\\n\"\n",
    "    f\"Horizontal MSE: {result['horizontal_mse']:.4f}\\n\"\n",
    "    f\"Total MSE: {result['total_mse']:.4f}\\n\"\n",
    ")"
   ]
  },
  {
   "cell_type": "code",
   "execution_count": 10,
   "metadata": {},
   "outputs": [
    {
     "data": {
      "image/png": "[encoded data removed]",
      "text/plain": [
       "<Figure size 1500x500 with 2 Axes>"
      ]
     },
     "metadata": {},
     "output_type": "display_data"
    }
   ],
   "source": [
    "individual_diff = result['individual_prediction_differences']\n",
    "vertical_diff = individual_diff[:, 0]\n",
    "horizontal_diff = individual_diff[:, 1]\n",
    "\n",
    "fig, (ax1, ax2) = plt.subplots(1, 2, figsize=(15, 5), sharey=True)\n",
    "ax1.violinplot(vertical_diff)\n",
    "ax1.set_title('Vertical MAE')\n",
    "ax2.violinplot(horizontal_diff)\n",
    "ax2.set_title('Horizontal MAE')\n",
    "\n",
    "plt.show()"
   ]
  },
  {
   "cell_type": "code",
   "execution_count": 11,
   "metadata": {},
   "outputs": [
    {
     "name": "stdout",
     "output_type": "stream",
     "text": [
      "graph(%input.1 : Float(1, 1, 224, 224, strides=[50176, 50176, 224, 1], requires_grad=0, device=cpu),\n",
      "      %features.0.weight : Float(2, 1, 3, 3, strides=[9, 9, 3, 1], requires_grad=1, device=cpu),\n",
      "      %features.0.bias : Float(2, strides=[1], requires_grad=1, device=cpu),\n",
      "      %features.2.weight : Float(2, strides=[1], requires_grad=1, device=cpu),\n",
      "      %features.2.bias : Float(2, strides=[1], requires_grad=1, device=cpu),\n",
      "      %features.2.running_mean : Float(2, strides=[1], requires_grad=0, device=cpu),\n",
      "      %features.2.running_var : Float(2, strides=[1], requires_grad=0, device=cpu),\n",
      "      %features.3.weight : Float(4, 2, 3, 3, strides=[18, 9, 3, 1], requires_grad=1, device=cpu),\n",
      "      %features.3.bias : Float(4, strides=[1], requires_grad=1, device=cpu),\n",
      "      %features.5.weight : Float(4, strides=[1], requires_grad=1, device=cpu),\n",
      "      %features.5.bias : Float(4, strides=[1], requires_grad=1, device=cpu),\n",
      "      %features.5.running_mean : Float(4, strides=[1], requires_grad=0, device=cpu),\n",
      "      %features.5.running_var : Float(4, strides=[1], requires_grad=0, device=cpu),\n",
      "      %features.6.weight : Float(8, 4, 3, 3, strides=[36, 9, 3, 1], requires_grad=1, device=cpu),\n",
      "      %features.6.bias : Float(8, strides=[1], requires_grad=1, device=cpu),\n",
      "      %features.8.weight : Float(8, strides=[1], requires_grad=1, device=cpu),\n",
      "      %features.8.bias : Float(8, strides=[1], requires_grad=1, device=cpu),\n",
      "      %features.8.running_mean : Float(8, strides=[1], requires_grad=0, device=cpu),\n",
      "      %features.8.running_var : Float(8, strides=[1], requires_grad=0, device=cpu),\n",
      "      %classifier.0.weight : Float(256, 3200, strides=[3200, 1], requires_grad=1, device=cpu),\n",
      "      %classifier.0.bias : Float(256, strides=[1], requires_grad=1, device=cpu),\n",
      "      %classifier.2.weight : Float(2, 256, strides=[256, 1], requires_grad=1, device=cpu),\n",
      "      %classifier.2.bias : Float(2, strides=[1], requires_grad=1, device=cpu),\n",
      "      %48 : Long(2, strides=[1], requires_grad=0, device=cpu)):\n",
      "  %input : Float(1, 2, 112, 112, strides=[25088, 12544, 112, 1], requires_grad=0, device=cpu) = onnx::Conv[dilations=[1, 1], group=1, kernel_shape=[3, 3], pads=[1, 1, 1, 1], strides=[2, 2]](%input.1, %features.0.weight, %features.0.bias) # d:\\Programs\\Anaconda\\envs\\dviz\\lib\\site-packages\\torch\\nn\\modules\\conv.py:442:0\n",
      "  %input.4 : Float(1, 2, 112, 112, strides=[25088, 12544, 112, 1], requires_grad=1, device=cpu) = onnx::Relu(%input) # d:\\Programs\\Anaconda\\envs\\dviz\\lib\\site-packages\\torch\\nn\\functional.py:1438:0\n",
      "  %input.8 : Float(1, 2, 112, 112, strides=[25088, 12544, 112, 1], requires_grad=1, device=cpu) = onnx::BatchNormalization[epsilon=1.0000000000000001e-05, momentum=0.90000000000000002](%input.4, %features.2.weight, %features.2.bias, %features.2.running_mean, %features.2.running_var) # d:\\Programs\\Anaconda\\envs\\dviz\\lib\\site-packages\\torch\\nn\\functional.py:2406:0\n",
      "  %input.12 : Float(1, 4, 56, 56, strides=[12544, 3136, 56, 1], requires_grad=0, device=cpu) = onnx::Conv[dilations=[1, 1], group=1, kernel_shape=[3, 3], pads=[1, 1, 1, 1], strides=[2, 2]](%input.8, %features.3.weight, %features.3.bias) # d:\\Programs\\Anaconda\\envs\\dviz\\lib\\site-packages\\torch\\nn\\modules\\conv.py:442:0\n",
      "  %input.16 : Float(1, 4, 56, 56, strides=[12544, 3136, 56, 1], requires_grad=1, device=cpu) = onnx::Relu(%input.12) # d:\\Programs\\Anaconda\\envs\\dviz\\lib\\site-packages\\torch\\nn\\functional.py:1438:0\n",
      "  %input.20 : Float(1, 4, 56, 56, strides=[12544, 3136, 56, 1], requires_grad=1, device=cpu) = onnx::BatchNormalization[epsilon=1.0000000000000001e-05, momentum=0.90000000000000002](%input.16, %features.5.weight, %features.5.bias, %features.5.running_mean, %features.5.running_var) # d:\\Programs\\Anaconda\\envs\\dviz\\lib\\site-packages\\torch\\nn\\functional.py:2406:0\n",
      "  %input.24 : Float(1, 8, 20, 20, strides=[3200, 400, 20, 1], requires_grad=0, device=cpu) = onnx::Conv[dilations=[1, 1], group=1, kernel_shape=[3, 3], pads=[2, 2, 2, 2], strides=[3, 3]](%input.20, %features.6.weight, %features.6.bias) # d:\\Programs\\Anaconda\\envs\\dviz\\lib\\site-packages\\torch\\nn\\modules\\conv.py:442:0\n",
      "  %input.28 : Float(1, 8, 20, 20, strides=[3200, 400, 20, 1], requires_grad=1, device=cpu) = onnx::Relu(%input.24) # d:\\Programs\\Anaconda\\envs\\dviz\\lib\\site-packages\\torch\\nn\\functional.py:1438:0\n",
      "  %34 : Float(1, 8, 20, 20, strides=[3200, 400, 20, 1], requires_grad=1, device=cpu) = onnx::BatchNormalization[epsilon=1.0000000000000001e-05, momentum=0.90000000000000002](%input.28, %features.8.weight, %features.8.bias, %features.8.running_mean, %features.8.running_var) # d:\\Programs\\Anaconda\\envs\\dviz\\lib\\site-packages\\torch\\nn\\functional.py:2406:0\n",
      "  %40 : Float(1, 3200, strides=[3200, 1], requires_grad=1, device=cpu) = onnx::Reshape(%34, %48) # c:\\Users\\sbart\\Desktop\\Repositories\\VSC Repos\\Python\\Rob2-PreprocessTest\\notebooks\\..\\src\\cv_cnns.py:27:0\n",
      "  %input.32 : Float(1, 256, strides=[256, 1], requires_grad=1, device=cpu) = onnx::Gemm[alpha=1., beta=1., transB=1](%40, %classifier.0.weight, %classifier.0.bias) # d:\\Programs\\Anaconda\\envs\\dviz\\lib\\site-packages\\torch\\nn\\modules\\linear.py:103:0\n",
      "  %42 : Float(1, 256, strides=[256, 1], requires_grad=1, device=cpu) = onnx::Relu(%input.32) # d:\\Programs\\Anaconda\\envs\\dviz\\lib\\site-packages\\torch\\nn\\functional.py:1438:0\n",
      "  %43 : Float(1, 2, strides=[2, 1], requires_grad=1, device=cpu) = onnx::Gemm[alpha=1., beta=1., transB=1](%42, %classifier.2.weight, %classifier.2.bias) # d:\\Programs\\Anaconda\\envs\\dviz\\lib\\site-packages\\torch\\nn\\modules\\linear.py:103:0\n",
      "  %44 : Float(1, 2, strides=[2, 1], requires_grad=1, device=cpu) = onnx::Tanh(%43) # d:\\Programs\\Anaconda\\envs\\dviz\\lib\\site-packages\\torch\\nn\\modules\\activation.py:357:0\n",
      "  %45 : Double(1, 2, strides=[2, 1], requires_grad=1, device=cpu) = onnx::Cast[to=11](%44) # c:\\Users\\sbart\\Desktop\\Repositories\\VSC Repos\\Python\\Rob2-PreprocessTest\\notebooks\\..\\src\\cv_cnns.py:27:0\n",
      "  return (%45)\n",
      "\n"
     ]
    }
   ],
   "source": [
    "torch.onnx.export(model, torch.randn(1, 1, 224, 224), '../models/thresh_cnn.onnx', verbose=True)"
   ]
  }
 ],
 "metadata": {
  "kernelspec": {
   "display_name": "dviz",
   "language": "python",
   "name": "python3"
  },
  "language_info": {
   "codemirror_mode": {
    "name": "ipython",
    "version": 3
   },
   "file_extension": ".py",
   "mimetype": "text/x-python",
   "name": "python",
   "nbconvert_exporter": "python",
   "pygments_lexer": "ipython3",
   "version": "3.10.4"
  },
  "orig_nbformat": 4
 },
 "nbformat": 4,
 "nbformat_minor": 2
}
